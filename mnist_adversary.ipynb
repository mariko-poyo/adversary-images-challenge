{
 "cells": [
  {
   "cell_type": "markdown",
   "metadata": {},
   "source": [
    "## generate adversary image \n",
    "This code is trying to generate adversary images based on MNIST classifier provided in Tensorflow Tutorial"
   ]
  },
  {
   "cell_type": "markdown",
   "metadata": {},
   "source": [
    "### TensorFlow Tutorial  #1 (linear regression)"
   ]
  },
  {
   "cell_type": "code",
   "execution_count": 1,
   "metadata": {},
   "outputs": [],
   "source": [
    "#import libraries\n",
    "from tensorflow.examples.tutorials.mnist import input_data\n",
    "import tensorflow as tf\n",
    "import numpy as np\n",
    "import matplotlib.pyplot as plt\n",
    "import math\n",
    "import pickle\n",
    "%matplotlib inline"
   ]
  },
  {
   "cell_type": "markdown",
   "metadata": {},
   "source": [
    " load the dataset as written in tutorial"
   ]
  },
  {
   "cell_type": "code",
   "execution_count": 2,
   "metadata": {},
   "outputs": [
    {
     "name": "stdout",
     "output_type": "stream",
     "text": [
      "Extracting MNIST_data/train-images-idx3-ubyte.gz\n",
      "Extracting MNIST_data/train-labels-idx1-ubyte.gz\n",
      "Extracting MNIST_data/t10k-images-idx3-ubyte.gz\n",
      "Extracting MNIST_data/t10k-labels-idx1-ubyte.gz\n"
     ]
    }
   ],
   "source": [
    "#load mnist dataset\n",
    "mnist_data = input_data.read_data_sets('MNIST_data', one_hot=True)"
   ]
  },
  {
   "cell_type": "code",
   "execution_count": 3,
   "metadata": {},
   "outputs": [],
   "source": [
    "#define placeholders\n",
    "x_data = tf.placeholder(tf.float32, shape=[None, 784])\n",
    "y_label = tf.placeholder(tf.float32, shape=[None, 10])"
   ]
  },
  {
   "cell_type": "code",
   "execution_count": 4,
   "metadata": {},
   "outputs": [],
   "source": [
    "#linear regression model\n",
    "def linear_model(epochs, batch_size,epsilon):\n",
    "    #follow TensorFlow turtorial\n",
    "    #linear regression model\n",
    "    \n",
    "    #declare variables\n",
    "    W = tf.Variable(tf.zeros([784,10]))\n",
    "    b = tf.Variable(tf.zeros([10]))\n",
    "    \n",
    "     #setup loss function, gradient step, prediction, accuravy etc. \n",
    "    pred = tf.matmul(x_data,W) + b\n",
    "    cross_entropy = tf.reduce_mean(tf.nn.softmax_cross_entropy_with_logits(labels=y_label, logits=pred))\n",
    "    train_step = tf.train.GradientDescentOptimizer(0.5).minimize(cross_entropy)\n",
    "    correct_prediction = tf.equal(tf.argmax(pred,1), tf.argmax(y_label,1))\n",
    "    accuracy = tf.reduce_mean(tf.cast(correct_prediction, tf.float32))\n",
    "    \n",
    "    #set flags to pick up images of digit two\n",
    "    isDigitTwo = tf.equal(tf.argmax(pred,1), 2)\n",
    "    isCorrectTwo = tf.cast(tf.cast(correct_prediction,tf.float32) * tf.cast(isDigitTwo, tf.float32),tf.bool)\n",
    "    isCorrectTwo_index = tf.where(isCorrectTwo)\n",
    "    \n",
    "    #define labels of digit two img\n",
    "    two_label = [2]\n",
    "    label_onehot_two = np.eye(10)[two_label]\n",
    "    six_label = [6]\n",
    "    label_onehot_six = np.eye(10)[six_label]\n",
    "    \n",
    "    #np array to store generated imgs and extracted imgs\n",
    "    generated_imgs = np.zeros((10,784))\n",
    "    extracted_two_imgs = np.zeros((10,784))\n",
    "    \n",
    "    with tf.Session() as sess:\n",
    "        #initialize variables\n",
    "        sess.run(tf.global_variables_initializer())\n",
    "\n",
    "        #train the model\n",
    "        for _ in range(epochs):\n",
    "            batch = mnist_data.train.next_batch(batch_size)\n",
    "            train_step.run(feed_dict={x_data: batch[0], y_label: batch[1]})\n",
    "\n",
    "        #evaluate the model by accuracy\n",
    "        print(\"Accuracy is:\", accuracy.eval(feed_dict={x_data: mnist_data.test.images, y_label: mnist_data.test.labels}))\n",
    "        \n",
    "        #extract 10 samples of digit two images\n",
    "        pred_two = sess.run(isCorrectTwo_index, feed_dict={x_data:mnist_data.test.images,y_label: mnist_data.test.labels})\n",
    "        index_two = [item for sublist in pred_two.tolist() for item in sublist]\n",
    "        for j in range(10):\n",
    "            extracted_two_imgs[j] = mnist_data.test.images[index_two[j]]\n",
    "        \n",
    "        ### generate adversary images ###\n",
    "        #get the gradient of image six\n",
    "        # gradient = gradient of WX + b respect to X -> gradient =  W \n",
    "        W_var = sess.run(W)\n",
    "        noise_six = epsilon * W_var[:,6]\n",
    "        \n",
    "        for i in range(10):\n",
    "            generated_imgs[i] = noise_six + extracted_two_imgs[i] \n",
    "            pred_w = sess.run(pred,feed_dict={x_data:np.reshape(generated_imgs[i],(1,784))})\n",
    "            pred_w_index = np.argmax(pred_w)\n",
    "            print ('prediction: %d' %pred_w_index)\n",
    "        \n",
    "        return generated_imgs,extracted_two_imgs;\n",
    "        \n",
    "        \n",
    "    "
   ]
  },
  {
   "cell_type": "code",
   "execution_count": 5,
   "metadata": {},
   "outputs": [
    {
     "name": "stdout",
     "output_type": "stream",
     "text": [
      "Accuracy is: 0.9253\n",
      "prediction: 6\n",
      "prediction: 6\n",
      "prediction: 6\n",
      "prediction: 6\n",
      "prediction: 6\n",
      "prediction: 6\n",
      "prediction: 6\n",
      "prediction: 6\n",
      "prediction: 6\n",
      "prediction: 6\n"
     ]
    }
   ],
   "source": [
    "#run the model\n",
    "gen_imgs,org_imgs = linear_model(20000,100,0.3)"
   ]
  },
  {
   "cell_type": "code",
   "execution_count": 6,
   "metadata": {},
   "outputs": [
    {
     "data": {
      "text/plain": [
       "<matplotlib.image.AxesImage at 0x7fe5c8409be0>"
      ]
     },
     "execution_count": 6,
     "metadata": {},
     "output_type": "execute_result"
    },
    {
     "data": {
      "image/png": "[encoded data removed]",
      "text/plain": [
       "<matplotlib.figure.Figure at 0x7fe5c83a7f28>"
      ]
     },
     "metadata": {},
     "output_type": "display_data"
    }
   ],
   "source": [
    "#visualize generated img\n",
    "plt.imshow(np.reshape(gen_imgs[0],(28,28)), cmap='gray')"
   ]
  },
  {
   "cell_type": "code",
   "execution_count": 7,
   "metadata": {},
   "outputs": [
    {
     "data": {
      "text/plain": [
       "<matplotlib.image.AxesImage at 0x7fe5c57349e8>"
      ]
     },
     "execution_count": 7,
     "metadata": {},
     "output_type": "execute_result"
    },
    {
     "data": {
      "image/png": "[encoded data removed]",
      "text/plain": [
       "<matplotlib.figure.Figure at 0x7fe5c806a3c8>"
      ]
     },
     "metadata": {},
     "output_type": "display_data"
    }
   ],
   "source": [
    "#visualize added weight\n",
    "weight_added = gen_imgs - org_imgs\n",
    "plt.imshow(np.reshape(weight_added[0],(28,28)),cmap='gray')"
   ]
  },
  {
   "cell_type": "markdown",
   "metadata": {},
   "source": [
    "### TensorFlow Tutorial #2 (ConvNet)"
   ]
  },
  {
   "cell_type": "code",
   "execution_count": 8,
   "metadata": {},
   "outputs": [],
   "source": [
    "#reshapre input data\n",
    "x_image = tf.reshape(x_data, [-1, 28, 28, 1])"
   ]
  },
  {
   "cell_type": "markdown",
   "metadata": {},
   "source": [
    "declare saver to save all parameter values after training"
   ]
  },
  {
   "cell_type": "code",
   "execution_count": 9,
   "metadata": {},
   "outputs": [],
   "source": [
    "#functions for declare variables\n",
    "def weight_variable(shape,name_):\n",
    "    initial = tf.truncated_normal(shape, stddev=0.1)\n",
    "    return tf.Variable(initial,name=name_)\n",
    "\n",
    "def bias_variable(shape,name_):\n",
    "    initial = tf.constant(0.1, shape=shape)\n",
    "    return tf.Variable(initial,name=name_)\n",
    "\n",
    "#functions to define conv layer and pooling layes\n",
    "def conv2d(x, W):\n",
    "    return tf.nn.conv2d(x, W, strides=[1, 1, 1, 1], padding='SAME')\n",
    "\n",
    "def max_pool_2x2(x):\n",
    "    return tf.nn.max_pool(x, ksize=[1, 2, 2, 1],strides=[1, 2, 2, 1], padding='SAME')"
   ]
  },
  {
   "cell_type": "code",
   "execution_count": 10,
   "metadata": {},
   "outputs": [
    {
     "name": "stdout",
     "output_type": "stream",
     "text": [
      "step 0, training accuracy 0.06\n",
      "step 100, training accuracy 0.82\n",
      "step 200, training accuracy 0.94\n",
      "step 300, training accuracy 0.98\n",
      "step 400, training accuracy 0.98\n",
      "step 500, training accuracy 0.96\n",
      "step 600, training accuracy 0.9\n",
      "step 700, training accuracy 0.96\n",
      "step 800, training accuracy 0.92\n",
      "step 900, training accuracy 1\n",
      "test accuracy 0.9592\n",
      "weight saved to ./MNIST_weight/model_weight.ckpt\n",
      "99\n"
     ]
    }
   ],
   "source": [
    "#convnet model\n",
    "\n",
    "#sess = tf.InteractiveSession()\n",
    "\n",
    "#declare parameter values\n",
    "W_conv1 = weight_variable([5, 5, 1, 32],\"W_conv1\")\n",
    "b_conv1 = bias_variable([32],\"b_conv1\")\n",
    "W_conv2 = weight_variable([5, 5, 32, 64],\"W_conv2\")\n",
    "b_conv2 = bias_variable([64],\"b_conv2\")\n",
    "W_fc1 = weight_variable([7 * 7 * 64, 1024],\"W_fc1\")\n",
    "b_fc1 = bias_variable([1024],\"b_fc1\")\n",
    "W_fc2 = weight_variable([1024, 10],\"W_fc2\")\n",
    "b_fc2 = bias_variable([10],\"b_fc2\")\n",
    "\n",
    "#declare saver to save all parameter values and retrieve it later\n",
    "#saver = tf.train.Saver([W_conv1,b_conv1,W_conv2,b_conv2,W_fc1,b_fc1,W_fc2,b_fc2])\n",
    "\n",
    "#first layer\n",
    "h_conv1 = tf.nn.relu(conv2d(x_image, W_conv1) + b_conv1)\n",
    "h_pool1 = max_pool_2x2(h_conv1)\n",
    "\n",
    "#second conv layer\n",
    "h_conv2 = tf.nn.relu(conv2d(h_pool1, W_conv2) + b_conv2)\n",
    "h_pool2 = max_pool_2x2(h_conv2)\n",
    "\n",
    "#flatten->fc layer->dropout\n",
    "h_pool2_flat = tf.reshape(h_pool2, [-1, 7*7*64])\n",
    "h_fc1 = tf.nn.relu(tf.matmul(h_pool2_flat, W_fc1) + b_fc1)\n",
    "keep_prob = tf.placeholder(tf.float32)\n",
    "h_fc1_drop = tf.nn.dropout(h_fc1, keep_prob)\n",
    "\n",
    "#last layer\n",
    "y_conv = tf.matmul(h_fc1_drop, W_fc2) + b_fc2\n",
    "\n",
    "#define loss func, gradient step, prediction\n",
    "cross_entropy = tf.reduce_mean(tf.nn.softmax_cross_entropy_with_logits(labels=y_label, logits=y_conv))\n",
    "train_step = tf.train.AdamOptimizer(1e-4).minimize(cross_entropy,var_list=[W_conv1, b_conv1,W_conv2,b_conv2,W_fc1,b_fc1,W_fc2,b_fc2])\n",
    "correct_prediction = tf.equal(tf.argmax(y_conv, 1), tf.argmax(y_label, 1))\n",
    "accuracy = tf.reduce_mean(tf.cast(correct_prediction, tf.float32))\n",
    "\n",
    "#define flags etc. to extract digit 2 images\n",
    "isDigitTwo = tf.equal(tf.argmax(y_label,1), 2)\n",
    "isCorrectTwo = tf.cast(tf.cast(correct_prediction,tf.float32) * tf.cast(isDigitTwo, tf.float32),tf.bool)\n",
    "isCorrectTwo_index = tf.where(isCorrectTwo)\n",
    "\n",
    "#also extract image of six\n",
    "isDigitSix = tf.equal(tf.argmax(y_label,1), 6)\n",
    "isCorrectSix = tf.cast(tf.cast(correct_prediction,tf.float32) * tf.cast(isDigitSix, tf.float32),tf.bool)\n",
    "isCorrectSix_index = tf.where(isCorrectSix)\n",
    "\n",
    "saver = tf.train.Saver(tf.global_variables()) #[W_conv1,b_conv1,W_conv2,b_conv2,W_fc1,b_fc1,W_fc2,b_fc2]\n",
    "\n",
    "#declare list to store extracted images and counter\n",
    "extracted_two_imgs = np.zeros((100,784))\n",
    "\n",
    "#train, evaluate\n",
    "with tf.Session() as sess:\n",
    "    #initialize parameters\n",
    "    sess.run(tf.global_variables_initializer())\n",
    "\n",
    "    for i in range(1000): #20000\n",
    "        batch = mnist_data.train.next_batch(50)\n",
    "        if i % 100 == 0:\n",
    "            train_accuracy = accuracy.eval(feed_dict={x_data: batch[0], y_label: batch[1], keep_prob: 1.0})\n",
    "            print('step %d, training accuracy %g' % (i, train_accuracy))\n",
    "        train_step.run(feed_dict={x_data: batch[0], y_label: batch[1], keep_prob: 0.5})\n",
    "\n",
    "    print('test accuracy %g' % accuracy.eval(feed_dict={\n",
    "      x_data: mnist_data.test.images, y_label: mnist_data.test.labels, keep_prob: 1.0}))\n",
    "\n",
    "    #save the current parameter values\n",
    "    save_path = saver.save(sess,\"./MNIST_weight/model_weight.ckpt\")\n",
    "    print('weight saved to %s' %save_path)\n",
    "\n",
    "    #extract digit two\n",
    "    pred_two = sess.run(isCorrectTwo_index, feed_dict={x_data:mnist_data.test.images,y_label: mnist_data.test.labels, keep_prob:1.0})\n",
    "    index_two = [item for sublist in pred_two.tolist() for item in sublist]\n",
    "    for j in range(100):\n",
    "        extracted_two_imgs[j] = mnist_data.test.images[index_two[j]]\n",
    "    print(j)\n",
    "    \n",
    "    #extract digit six\n",
    "    pred_six = sess.run(isCorrectSix_index, feed_dict={x_data:mnist_data.test.images,y_label: mnist_data.test.labels, keep_prob:1.0})\n",
    "    index_six = [item for sublist in pred_six.tolist() for item in sublist]\n",
    "    extracted_six_img = mnist_data.test.images[index_six[0]]\n",
    "    \n",
    "    #pickle extracted imgs\n",
    "    with open('./mnist_extract_imgs.p','wb') as f:\n",
    "        pickle.dump([extracted_two_imgs,extracted_six_img],f)\n",
    "    "
   ]
  },
  {
   "cell_type": "markdown",
   "metadata": {},
   "source": [
    "### try to generate adversary images"
   ]
  },
  {
   "cell_type": "markdown",
   "metadata": {},
   "source": [
    "try to generate adversary images by adding some noise to extracted image of digit 2. \n",
    "On writing this part, this link was really useful. [PASTE LINK LATER]"
   ]
  },
  {
   "cell_type": "markdown",
   "metadata": {},
   "source": [
    "first, try to visualize extracted imgs"
   ]
  },
  {
   "cell_type": "code",
   "execution_count": 11,
   "metadata": {},
   "outputs": [
    {
     "data": {
      "text/plain": [
       "<matplotlib.text.Text at 0x7fcb3a465f98>"
      ]
     },
     "execution_count": 11,
     "metadata": {},
     "output_type": "execute_result"
    },
    {
     "data": {
      "image/png": "[encoded data removed]",
      "text/plain": [
       "<matplotlib.figure.Figure at 0x7fcb3bcea4e0>"
      ]
     },
     "metadata": {},
     "output_type": "display_data"
    }
   ],
   "source": [
    "#visualize one of the samples in extracted_two_imgs\n",
    "data = extracted_two_imgs[2]\n",
    "plt.imshow(np.reshape(data,(28,28)),cmap='gray')\n",
    "plt.title(\"extracted digit 2 image\")"
   ]
  },
  {
   "cell_type": "markdown",
   "metadata": {},
   "source": [
    "re-define parameters as untrainable and also define noise images as variable"
   ]
  },
  {
   "cell_type": "markdown",
   "metadata": {},
   "source": [
    "generate new images by using the model weights"
   ]
  },
  {
   "cell_type": "code",
   "execution_count": 12,
   "metadata": {},
   "outputs": [
    {
     "name": "stdout",
     "output_type": "stream",
     "text": [
      "INFO:tensorflow:Restoring parameters from ./MNIST_weight/model_weight.ckpt\n",
      "model is restored\n",
      "prediction is: 2\n",
      "prediction is: 2\n",
      "prediction is: 3\n",
      "prediction is: 4\n",
      "prediction is: 2\n",
      "prediction is: 3\n",
      "prediction is: 7\n",
      "prediction is: 2\n",
      "prediction is: 2\n",
      "prediction is: 8\n",
      "prediction is: 2\n",
      "prediction is: 9\n",
      "prediction is: 3\n",
      "prediction is: 2\n",
      "prediction is: 3\n",
      "prediction is: 3\n",
      "prediction is: 2\n",
      "prediction is: 0\n",
      "prediction is: 8\n",
      "prediction is: 3\n",
      "prediction is: 2\n",
      "prediction is: 2\n",
      "prediction is: 3\n",
      "prediction is: 1\n",
      "prediction is: 3\n",
      "prediction is: 2\n",
      "prediction is: 2\n",
      "prediction is: 1\n",
      "prediction is: 2\n",
      "prediction is: 3\n",
      "prediction is: 2\n",
      "prediction is: 2\n",
      "prediction is: 7\n",
      "prediction is: 1\n",
      "prediction is: 6\n",
      "prediction is: 1\n",
      "prediction is: 1\n",
      "prediction is: 2\n",
      "prediction is: 2\n",
      "prediction is: 0\n",
      "prediction is: 2\n",
      "prediction is: 0\n",
      "prediction is: 7\n",
      "prediction is: 2\n",
      "prediction is: 3\n",
      "prediction is: 2\n",
      "prediction is: 1\n",
      "prediction is: 1\n",
      "prediction is: 7\n",
      "prediction is: 2\n",
      "prediction is: 8\n",
      "prediction is: 2\n",
      "prediction is: 1\n",
      "prediction is: 2\n",
      "prediction is: 4\n",
      "prediction is: 1\n",
      "prediction is: 2\n",
      "prediction is: 8\n",
      "prediction is: 2\n",
      "prediction is: 7\n",
      "prediction is: 2\n",
      "prediction is: 2\n",
      "prediction is: 8\n",
      "prediction is: 6\n",
      "prediction is: 8\n",
      "prediction is: 2\n",
      "prediction is: 1\n",
      "prediction is: 2\n",
      "prediction is: 6\n",
      "prediction is: 1\n",
      "prediction is: 2\n",
      "prediction is: 2\n",
      "prediction is: 8\n",
      "prediction is: 2\n",
      "prediction is: 8\n",
      "prediction is: 0\n",
      "prediction is: 7\n",
      "prediction is: 3\n",
      "prediction is: 2\n",
      "prediction is: 2\n",
      "prediction is: 1\n",
      "prediction is: 8\n",
      "prediction is: 8\n",
      "prediction is: 4\n",
      "prediction is: 8\n",
      "prediction is: 2\n",
      "prediction is: 4\n",
      "prediction is: 2\n",
      "prediction is: 2\n",
      "prediction is: 2\n",
      "prediction is: 8\n",
      "prediction is: 2\n",
      "prediction is: 1\n",
      "prediction is: 2\n",
      "prediction is: 2\n",
      "prediction is: 6\n",
      "prediction is: 2\n",
      "prediction is: 8\n",
      "prediction is: 8\n",
      "prediction is: 2\n"
     ]
    }
   ],
   "source": [
    "#generate new image \n",
    "#retrieve variables \n",
    "with open('./mnist_extract_imgs.p','rb') as f:\n",
    "    extracted_two_imgs,extracted_six_img = pickle.load(f)\n",
    "\n",
    "#define correct class and make it one-hot code\n",
    "correct_class_two = [2]\n",
    "correct_onehot_two = np.eye(10)[correct_class_two]\n",
    "correct_class_six = [6]\n",
    "correct_onehot_six = np.eye(10)[correct_class_six]\n",
    "\n",
    "#re-define loss function etc.\n",
    "loss = tf.reduce_mean(tf.nn.softmax_cross_entropy_with_logits(labels=y_label, logits=y_conv))\n",
    "gradient = tf.gradients(loss,x_data)\n",
    "epsilon = 0.07 #same as panda one\n",
    "\n",
    "#np array to store generated img\n",
    "gen_imgs = np.zeros((100,784))#extracted_two_imgs\n",
    "\n",
    "### generate\n",
    "with tf.Session() as sess:\n",
    "     #initialize all variables\n",
    "    sess.run(tf.global_variables_initializer())\n",
    "    \n",
    "    #restore parameter valuers\n",
    "    saver.restore(sess,\"./MNIST_weight/model_weight.ckpt\")\n",
    "    print('model is restored')\n",
    "    \n",
    "   \n",
    "    #for each image in extracted two, get gradient\n",
    "    for i in range(100):\n",
    "        \n",
    "        #TODO: rewrite this part\n",
    "        #the formula for added noise is:\n",
    "        # n = epcilon * sign(gradient of loss respect to x)\n",
    "        grad_img = sess.run(gradient, feed_dict={x_data:np.reshape(extracted_two_imgs[i],(1,784)), y_label:correct_onehot_two,keep_prob:1.0})\n",
    "        noise =  epsilon * np.sign(grad_img) \n",
    "        gen_imgs[i] = noise + extracted_two_imgs[i]\n",
    "\n",
    "        #printout prediction\n",
    "        pred_wrong = sess.run(y_conv, feed_dict={x_data:np.reshape(gen_imgs[i],(1,784)),keep_prob:1.0})\n",
    "        pred_id = np.argmax(pred_wrong)\n",
    "        print ('prediction is: %d' %pred_id)\n",
    "    \n",
    "    n = gen_imgs - extracted_two_imgs\n",
    "\n",
    "        "
   ]
  },
  {
   "cell_type": "markdown",
   "metadata": {},
   "source": [
    "visualize noise images added"
   ]
  },
  {
   "cell_type": "code",
   "execution_count": 13,
   "metadata": {},
   "outputs": [
    {
     "data": {
      "text/plain": [
       "<matplotlib.image.AxesImage at 0x7fcb373a7208>"
      ]
     },
     "execution_count": 13,
     "metadata": {},
     "output_type": "execute_result"
    },
    {
     "data": {
      "image/png": "[encoded data removed]",
      "text/plain": [
       "<matplotlib.figure.Figure at 0x7fcb39f902e8>"
      ]
     },
     "metadata": {},
     "output_type": "display_data"
    }
   ],
   "source": [
    "plt.imshow(np.reshape(n[0],(28,28)),cmap='gray')"
   ]
  },
  {
   "cell_type": "markdown",
   "metadata": {},
   "source": [
    "visualize generated img"
   ]
  },
  {
   "cell_type": "code",
   "execution_count": 14,
   "metadata": {},
   "outputs": [
    {
     "data": {
      "text/plain": [
       "<matplotlib.image.AxesImage at 0x7fcb3737b6a0>"
      ]
     },
     "execution_count": 14,
     "metadata": {},
     "output_type": "execute_result"
    },
    {
     "data": {
      "image/png": "[encoded data removed]",
      "text/plain": [
       "<matplotlib.figure.Figure at 0x7fcb373b3518>"
      ]
     },
     "metadata": {},
     "output_type": "display_data"
    }
   ],
   "source": [
    "plt.imshow(np.reshape(gen_imgs[0],(28,28)),cmap='gray')"
   ]
  },
  {
   "cell_type": "code",
   "execution_count": null,
   "metadata": {},
   "outputs": [],
   "source": []
  }
 ],
 "metadata": {
  "kernelspec": {
   "display_name": "Python 2",
   "language": "python",
   "name": "python2"
  },
  "language_info": {
   "codemirror_mode": {
    "name": "ipython",
    "version": 3
   },
   "file_extension": ".py",
   "mimetype": "text/x-python",
   "name": "python",
   "nbconvert_exporter": "python",
   "pygments_lexer": "ipython3",
   "version": "3.5.2"
  }
 },
 "nbformat": 4,
 "nbformat_minor": 2
}
