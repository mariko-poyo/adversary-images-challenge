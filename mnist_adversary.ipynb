{
 "cells": [
  {
   "cell_type": "markdown",
   "metadata": {},
   "source": [
    "## generate adversary image \n",
    "This code is trying to generate adversary images based on MNIST classifier provided in Tensorflow Tutorial"
   ]
  },
  {
   "cell_type": "markdown",
   "metadata": {},
   "source": [
    "### TensorFlow Tutorial  #1 (linear regression model)"
   ]
  },
  {
   "cell_type": "markdown",
   "metadata": {},
   "source": [
    "import required libraries first"
   ]
  },
  {
   "cell_type": "code",
   "execution_count": 1,
   "metadata": {},
   "outputs": [],
   "source": [
    "#import libraries\n",
    "from tensorflow.examples.tutorials.mnist import input_data\n",
    "import tensorflow as tf\n",
    "import numpy as np\n",
    "import matplotlib.pyplot as plt\n",
    "import math\n",
    "import pickle\n",
    "%matplotlib inline"
   ]
  },
  {
   "cell_type": "markdown",
   "metadata": {},
   "source": [
    " load mnist dataset "
   ]
  },
  {
   "cell_type": "code",
   "execution_count": 2,
   "metadata": {},
   "outputs": [
    {
     "name": "stdout",
     "output_type": "stream",
     "text": [
      "Extracting MNIST_data/train-images-idx3-ubyte.gz\n",
      "Extracting MNIST_data/train-labels-idx1-ubyte.gz\n",
      "Extracting MNIST_data/t10k-images-idx3-ubyte.gz\n",
      "Extracting MNIST_data/t10k-labels-idx1-ubyte.gz\n"
     ]
    }
   ],
   "source": [
    "#load mnist dataset\n",
    "mnist_data = input_data.read_data_sets('MNIST_data', one_hot=True)"
   ]
  },
  {
   "cell_type": "code",
   "execution_count": 3,
   "metadata": {},
   "outputs": [],
   "source": [
    "#define number of classes and data size of each image\n",
    "NUM_CLASSES = 10\n",
    "IMAGE_SIZE_1D = 784  #28 * 28"
   ]
  },
  {
   "cell_type": "markdown",
   "metadata": {},
   "source": [
    "define placeholders to put the input images and labels later"
   ]
  },
  {
   "cell_type": "code",
   "execution_count": 4,
   "metadata": {},
   "outputs": [],
   "source": [
    "#define placeholders\n",
    "x_data = tf.placeholder(tf.float32, shape=[None, IMAGE_SIZE_1D])\n",
    "y_label = tf.placeholder(tf.float32, shape=[None, 10])"
   ]
  },
  {
   "cell_type": "markdown",
   "metadata": {},
   "source": [
    "First, I try to train linear regression model and use it to generate adversary images of digit two.\n",
    "Due to its linearity, the model should misclassify generated adverary image based on the added feature value.\n",
    "For example, if I add feature value of digit six to the image of digit two, the model should predict the noise added images as digit six."
   ]
  },
  {
   "cell_type": "markdown",
   "metadata": {},
   "source": [
    "since logit is given by the following formula:  \n",
    "$$ y = W^T X + b$$\n",
    "gradint of loss respect to X would be W, which is weight parameter"
   ]
  },
  {
   "cell_type": "code",
   "execution_count": 5,
   "metadata": {},
   "outputs": [],
   "source": [
    "#linear regression model\n",
    "def linear_model(epochs, batch_size,epsilon,num_extract,adversary_dst_target,adversary_org_target):\n",
    "    #follow TensorFlow turtorial\n",
    "    #linear regression model\n",
    "    \n",
    "    #declare variables\n",
    "    W = tf.Variable(tf.zeros([IMAGE_SIZE_1D,NUM_CLASSES]))\n",
    "    b = tf.Variable(tf.zeros([NUM_CLASSES]))\n",
    "    \n",
    "     #setup loss function, gradient step, prediction, accuravy etc. \n",
    "    pred = tf.matmul(x_data,W) + b\n",
    "    cross_entropy = tf.reduce_mean(tf.nn.softmax_cross_entropy_with_logits(labels=y_label, logits=pred))\n",
    "    train_step = tf.train.GradientDescentOptimizer(0.5).minimize(cross_entropy)\n",
    "    correct_prediction = tf.equal(tf.argmax(pred,1), tf.argmax(y_label,1))\n",
    "    accuracy = tf.reduce_mean(tf.cast(correct_prediction, tf.float32))\n",
    "    \n",
    "    #set flags to pick up images of digit two\n",
    "    isDigitTwo = tf.equal(tf.argmax(pred,1), adversary_org_target)\n",
    "    isCorrectTwo = tf.cast(tf.cast(correct_prediction,tf.float32) * tf.cast(isDigitTwo, tf.float32),tf.bool)\n",
    "    isCorrectTwo_index = tf.where(isCorrectTwo)\n",
    "    \n",
    "    #np array to store generated imgs and extracted imgs\n",
    "    generated_imgs = np.zeros((NUM_CLASSES,IMAGE_SIZE_1D))\n",
    "    extracted_two_imgs = np.zeros((NUM_CLASSES,IMAGE_SIZE_1D))\n",
    "    \n",
    "    with tf.Session() as sess:\n",
    "        #initialize variables\n",
    "        sess.run(tf.global_variables_initializer())\n",
    "\n",
    "        #train the model\n",
    "        for _ in range(epochs):\n",
    "            batch = mnist_data.train.next_batch(batch_size)\n",
    "            train_step.run(feed_dict={x_data: batch[0], y_label: batch[1]})\n",
    "\n",
    "        #evaluate the model by accuracy\n",
    "        print(\"Accuracy is:\", accuracy.eval(feed_dict={x_data: mnist_data.test.images, y_label: mnist_data.test.labels}))\n",
    "        \n",
    "        #extract 10 samples of digit two images\n",
    "        pred_two = sess.run(isCorrectTwo_index, feed_dict={x_data:mnist_data.test.images,y_label: mnist_data.test.labels})\n",
    "        index_two = [item for sublist in pred_two.tolist() for item in sublist]\n",
    "        for j in range(num_extract):\n",
    "            extracted_two_imgs[j] = mnist_data.test.images[index_two[j]]\n",
    "        \n",
    "        ### generate adversary images ###\n",
    "        # gradient = gradient of WX + b respect to X -> gradient =  W\n",
    "        # noise = epsilon * sign(gradient)\n",
    "        W_var = sess.run(W)\n",
    "        noise_six = epsilon * np.sign(W_var[:,adversary_dst_target])\n",
    "        \n",
    "        for i in range(num_extract):\n",
    "            generated_imgs[i] = noise_six + extracted_two_imgs[i] \n",
    "            pred_w = sess.run(pred,feed_dict={x_data:np.reshape(generated_imgs[i],(1,IMAGE_SIZE_1D))})\n",
    "            pred_w_index = np.argmax(pred_w)\n",
    "            print ('prediction: %d' %pred_w_index)\n",
    "        \n",
    "        return generated_imgs,extracted_two_imgs;\n",
    "        "
   ]
  },
  {
   "cell_type": "code",
   "execution_count": 6,
   "metadata": {},
   "outputs": [
    {
     "name": "stdout",
     "output_type": "stream",
     "text": [
      "Accuracy is: 0.9184\n",
      "prediction: 6\n",
      "prediction: 6\n",
      "prediction: 6\n",
      "prediction: 6\n",
      "prediction: 6\n",
      "prediction: 6\n",
      "prediction: 6\n",
      "prediction: 6\n",
      "prediction: 6\n",
      "prediction: 6\n"
     ]
    }
   ],
   "source": [
    "#run the model\n",
    "gen_imgs,org_imgs = linear_model(1000,100,0.25,10,6,2)"
   ]
  },
  {
   "cell_type": "code",
   "execution_count": 7,
   "metadata": {},
   "outputs": [
    {
     "data": {
      "text/plain": [
       "<matplotlib.image.AxesImage at 0x7f59acbcf9e8>"
      ]
     },
     "execution_count": 7,
     "metadata": {},
     "output_type": "execute_result"
    },
    {
     "data": {
      "image/png": "[encoded data removed]",
      "text/plain": [
       "<matplotlib.figure.Figure at 0x7f59c27e7320>"
      ]
     },
     "metadata": {},
     "output_type": "display_data"
    }
   ],
   "source": [
    "#visualize generated img\n",
    "plt.imshow(np.reshape(gen_imgs[0],(28,28)), cmap='gray')"
   ]
  },
  {
   "cell_type": "code",
   "execution_count": 8,
   "metadata": {},
   "outputs": [
    {
     "data": {
      "text/plain": [
       "<matplotlib.image.AxesImage at 0x7f59acaf6940>"
      ]
     },
     "execution_count": 8,
     "metadata": {},
     "output_type": "execute_result"
    },
    {
     "data": {
      "image/png": "[encoded data removed]",
      "text/plain": [
       "<matplotlib.figure.Figure at 0x7f59af421b70>"
      ]
     },
     "metadata": {},
     "output_type": "display_data"
    }
   ],
   "source": [
    "#visualize added weight\n",
    "weight_added = gen_imgs - org_imgs\n",
    "plt.imshow(np.reshape(weight_added[0],(28,28)),cmap='gray')"
   ]
  },
  {
   "cell_type": "markdown",
   "metadata": {},
   "source": [
    "### TensorFlow Tutorial #2 (ConvNet)"
   ]
  },
  {
   "cell_type": "code",
   "execution_count": 9,
   "metadata": {},
   "outputs": [],
   "source": [
    "#define batch size first\n",
    "batch_siz = 50"
   ]
  },
  {
   "cell_type": "code",
   "execution_count": 10,
   "metadata": {},
   "outputs": [],
   "source": [
    "#reshapre input data\n",
    "x_image = tf.reshape(x_data, [-1, 28, 28, 1])"
   ]
  },
  {
   "cell_type": "code",
   "execution_count": 11,
   "metadata": {},
   "outputs": [],
   "source": [
    "#define function to setup input variable\n",
    "def input_img_variable(batch_size):\n",
    "    return tf.Variable(tf.zeros([batch_size,28,28,1]),trainable=False)"
   ]
  },
  {
   "cell_type": "code",
   "execution_count": 12,
   "metadata": {},
   "outputs": [],
   "source": [
    "#declare vraiable for img input\n",
    "x_img_var = input_img_variable(batch_siz)"
   ]
  },
  {
   "cell_type": "code",
   "execution_count": 13,
   "metadata": {},
   "outputs": [],
   "source": [
    "#assign openration for x_image\n",
    "assign_x = tf.assign(x_img_var, x_image)"
   ]
  },
  {
   "cell_type": "markdown",
   "metadata": {},
   "source": [
    "declare saver to save all parameter values after training"
   ]
  },
  {
   "cell_type": "code",
   "execution_count": 14,
   "metadata": {},
   "outputs": [],
   "source": [
    "#functions for declare variables\n",
    "def weight_variable(shape,name_):\n",
    "    initial = tf.truncated_normal(shape, stddev=0.1)\n",
    "    return tf.Variable(initial,name=name_)\n",
    "\n",
    "def bias_variable(shape,name_):\n",
    "    initial = tf.constant(0.1, shape=shape)\n",
    "    return tf.Variable(initial,name=name_)\n",
    "\n",
    "#functions to define conv layer and pooling layes\n",
    "def conv2d(x, W):\n",
    "    return tf.nn.conv2d(x, W, strides=[1, 1, 1, 1], padding='SAME')\n",
    "\n",
    "def max_pool_2x2(x):\n",
    "    return tf.nn.max_pool(x, ksize=[1, 2, 2, 1],strides=[1, 2, 2, 1], padding='SAME')"
   ]
  },
  {
   "cell_type": "code",
   "execution_count": 15,
   "metadata": {},
   "outputs": [],
   "source": [
    "#define variables and tensors used for training here\n",
    "#declare parameter values\n",
    "W_conv1 = weight_variable([5, 5, 1, 32],\"W_conv1\")\n",
    "b_conv1 = bias_variable([32],\"b_conv1\")\n",
    "W_conv2 = weight_variable([5, 5, 32, 64],\"W_conv2\")\n",
    "b_conv2 = bias_variable([64],\"b_conv2\")\n",
    "W_fc1 = weight_variable([7 * 7 * 64, 1024],\"W_fc1\")\n",
    "b_fc1 = bias_variable([1024],\"b_fc1\")\n",
    "W_fc2 = weight_variable([1024, 10],\"W_fc2\")\n",
    "b_fc2 = bias_variable([10],\"b_fc2\")\n",
    "\n",
    "#first layer\n",
    "h_conv1 = tf.nn.relu(conv2d(x_img_var, W_conv1) + b_conv1)\n",
    "h_pool1 = max_pool_2x2(h_conv1)\n",
    "\n",
    "#second conv layer\n",
    "h_conv2 = tf.nn.relu(conv2d(h_pool1, W_conv2) + b_conv2)\n",
    "h_pool2 = max_pool_2x2(h_conv2)\n",
    "\n",
    "#flatten->fc layer->dropout\n",
    "h_pool2_flat = tf.reshape(h_pool2, [-1, 7*7*64])\n",
    "h_fc1 = tf.nn.relu(tf.matmul(h_pool2_flat, W_fc1) + b_fc1)\n",
    "keep_prob = tf.placeholder(tf.float32)\n",
    "h_fc1_drop = tf.nn.dropout(h_fc1, keep_prob)\n",
    "\n",
    "#last layer\n",
    "y_conv = tf.matmul(h_fc1_drop, W_fc2) + b_fc2\n",
    "\n",
    "#define loss func, gradient step, prediction\n",
    "cross_entropy = tf.reduce_mean(tf.nn.softmax_cross_entropy_with_logits(labels=y_label, logits=y_conv))\n",
    "train_step = tf.train.AdamOptimizer(1e-4).minimize(cross_entropy,var_list=[W_conv1, b_conv1,W_conv2,b_conv2,W_fc1,b_fc1,W_fc2,b_fc2])\n",
    "correct_prediction = tf.equal(tf.argmax(y_conv, 1), tf.argmax(y_label, 1))\n",
    "accuracy = tf.reduce_mean(tf.cast(correct_prediction, tf.float32))\n",
    "\n",
    "#define saver to save the trained parameters later\n",
    "saver = tf.train.Saver(tf.global_variables())\n"
   ]
  },
  {
   "cell_type": "code",
   "execution_count": 16,
   "metadata": {},
   "outputs": [],
   "source": [
    "def convnet_model_train(epochs,batch_size):\n",
    "    #convnet model\n",
    "    \n",
    "    #calculate batch size for testing dataset\n",
    "    iteration_num = math.ceil(mnist_data.test.labels.shape[0] / batch_size)\n",
    "    accu_total = 0\n",
    "    accu_mean = 0\n",
    "\n",
    "    #train, evaluate\n",
    "    with tf.Session() as sess:\n",
    "        #initialize parameters\n",
    "        sess.run(tf.global_variables_initializer())\n",
    "    \n",
    "        #train for given epoch times\n",
    "        for i in range(epochs): #20000\n",
    "            batch = mnist_data.train.next_batch(batch_size) #50\n",
    "            sess.run(assign_x, feed_dict={x_data:batch[0]})\n",
    "            if i % 100 == 0:\n",
    "                train_accuracy = accuracy.eval(feed_dict={y_label: batch[1], keep_prob: 1.0})\n",
    "                print('step %d, training accuracy %g' % (i, train_accuracy))\n",
    "            train_step.run(feed_dict={y_label: batch[1], keep_prob: 0.5})\n",
    "\n",
    "        #evaluate the accuracy of the model by using test set\n",
    "        for k in range(iteration_num):\n",
    "            batch_test = mnist_data.test.next_batch(batch_size)\n",
    "            sess.run(assign_x,feed_dict={x_data:batch_test[0]})\n",
    "            accu_total += accuracy.eval(feed_dict={y_label: batch_test[1], keep_prob: 1.0})\n",
    "        accu_mean = accu_total / iteration_num\n",
    "        print('average test accuracy %.4f' %accu_mean )\n",
    "\n",
    "        #save the current parameter values\n",
    "        save_path = saver.save(sess,\"./MNIST_weight/model_weight.ckpt\")\n",
    "        print('weight saved to %s' %save_path)\n"
   ]
  },
  {
   "cell_type": "code",
   "execution_count": 17,
   "metadata": {},
   "outputs": [
    {
     "name": "stdout",
     "output_type": "stream",
     "text": [
      "step 0, training accuracy 0.18\n",
      "step 100, training accuracy 0.8\n",
      "step 200, training accuracy 0.92\n",
      "step 300, training accuracy 0.96\n",
      "step 400, training accuracy 0.9\n",
      "step 500, training accuracy 0.98\n",
      "step 600, training accuracy 0.94\n",
      "step 700, training accuracy 0.94\n",
      "step 800, training accuracy 0.96\n",
      "step 900, training accuracy 0.94\n",
      "average test accuracy 0.9618\n",
      "weight saved to ./MNIST_weight/model_weight.ckpt\n"
     ]
    }
   ],
   "source": [
    "#train the model\n",
    "convnet_model_train(1000,50)"
   ]
  },
  {
   "cell_type": "markdown",
   "metadata": {},
   "source": [
    "### try to generate adversary images"
   ]
  },
  {
   "cell_type": "markdown",
   "metadata": {},
   "source": [
    "try to generate adversary images by adding some noise to extracted image of digit 2. \n",
    "On writing this part, this link was really useful. [PASTE LINK LATER]"
   ]
  },
  {
   "cell_type": "markdown",
   "metadata": {},
   "source": [
    "first, try to visualize extracted imgs"
   ]
  },
  {
   "cell_type": "code",
   "execution_count": 20,
   "metadata": {},
   "outputs": [],
   "source": [
    "#extract the images of digit two\n",
    "def convnet_model_extract(batch_size,adversary_org_target):\n",
    "    #define flags etc. to extract digit 2 images\n",
    "    isDigitTwo = tf.equal(tf.argmax(y_label,1), adversary_org_target)\n",
    "    isCorrectTwo = tf.cast(tf.cast(correct_prediction,tf.float32) * tf.cast(isDigitTwo, tf.float32),tf.bool)\n",
    "    isCorrectTwo_index = tf.where(isCorrectTwo)\n",
    "\n",
    "    #declare list to store extracted images and counter\n",
    "    extracted_two_imgs = np.zeros((batch_size,IMAGE_SIZE_1D))\n",
    "    count = 0\n",
    "\n",
    "    #calculate batch size for testing dataset\n",
    "    iteration_num = math.ceil(mnist_data.test.labels.shape[0] / batch_size)\n",
    "    accu_total = 0\n",
    "    accu_mean = 0\n",
    "\n",
    "    ### extract the img data\n",
    "    with tf.Session() as sess:\n",
    "        #initialize all variables\n",
    "        sess.run(tf.global_variables_initializer())\n",
    "\n",
    "        #restore parameter valuers\n",
    "        saver.restore(sess,\"./MNIST_weight/model_weight.ckpt\")\n",
    "        print('model is restored')\n",
    "\n",
    "        #make sure the model is resotred properly\n",
    "        for k in range(iteration_num):\n",
    "            batch_test = mnist_data.test.next_batch(batch_size)\n",
    "            sess.run(assign_x,feed_dict={x_data:batch_test[0]})\n",
    "            accu_total += accuracy.eval(feed_dict={y_label: batch_test[1], keep_prob: 1.0})\n",
    "        accu_mean = accu_total / iteration_num\n",
    "        print('average test accuracy %.4f' %accu_mean )\n",
    "\n",
    "        #iterate test data set\n",
    "        for i in range(iteration_num):\n",
    "            batch_test = mnist_data.test.next_batch(batch_size)\n",
    "            sess.run(assign_x,feed_dict={x_data:batch_test[0]})\n",
    "\n",
    "            #extract digit two\n",
    "            i = 0\n",
    "            pred_two = sess.run(isCorrectTwo_index, feed_dict={y_label: batch_test[1], keep_prob:1.0})\n",
    "            index_two = [item for sublist in pred_two.tolist() for item in sublist]\n",
    "            while( batch_size > count and i < len(index_two)):\n",
    "                extracted_two_imgs[count] = batch_test[0][index_two[i]]\n",
    "                i += 1\n",
    "                count += 1\n",
    "\n",
    "        #pickle extracted imgs\n",
    "        with open('./mnist_extract_imgs.p','wb') as f:\n",
    "            pickle.dump([extracted_two_imgs],f)\n",
    "        print('extracted images pickled')\n",
    "            \n",
    "    return extracted_two_imgs"
   ]
  },
  {
   "cell_type": "code",
   "execution_count": 21,
   "metadata": {},
   "outputs": [
    {
     "name": "stdout",
     "output_type": "stream",
     "text": [
      "INFO:tensorflow:Restoring parameters from ./MNIST_weight/model_weight.ckpt\n",
      "model is restored\n",
      "average test accuracy 0.9618\n",
      "extracted images pickled\n"
     ]
    }
   ],
   "source": [
    "#extract the imgs\n",
    "extracted_two_imgs = convnet_model_extract(batch_siz,2)"
   ]
  },
  {
   "cell_type": "code",
   "execution_count": 29,
   "metadata": {},
   "outputs": [
    {
     "data": {
      "text/plain": [
       "<matplotlib.text.Text at 0x7f59a8166160>"
      ]
     },
     "execution_count": 29,
     "metadata": {},
     "output_type": "execute_result"
    },
    {
     "data": {
      "image/png": "[encoded data removed]",
      "text/plain": [
       "<matplotlib.figure.Figure at 0x7f59a81b0da0>"
      ]
     },
     "metadata": {},
     "output_type": "display_data"
    }
   ],
   "source": [
    "#visualize one of the samples in extracted_two_imgs\n",
    "data = extracted_two_imgs[1]\n",
    "plt.imshow(np.reshape(data,(28,28)),cmap='gray')\n",
    "plt.title(\"extracted digit 2 image\")"
   ]
  },
  {
   "cell_type": "markdown",
   "metadata": {},
   "source": [
    "re-define parameters as untrainable and also define noise images as variable"
   ]
  },
  {
   "cell_type": "markdown",
   "metadata": {},
   "source": [
    "generate new images by using the model weights"
   ]
  },
  {
   "cell_type": "code",
   "execution_count": 25,
   "metadata": {},
   "outputs": [],
   "source": [
    "def convnet_model_adversary_six(epochs,batch_size,input_imgs):\n",
    "    #generate new image \n",
    "    #retrieve variables \n",
    "    with open('./mnist_extract_imgs.p','rb') as f:\n",
    "        extracted_two_imgs = pickle.load(f)\n",
    "\n",
    "    #define correct class and make it one-hot code\n",
    "    class_two = [2]\n",
    "    onehot_two = np.eye(NUM_CLASSES)[class_two]\n",
    "    class_six = [6]\n",
    "    onehot_six = np.eye(NUM_CLASSES)[class_six]\n",
    "    onehot_six_mult = np.zeros((batch_size,NUM_CLASSES))\n",
    "    onehot_two_mult = np.zeros((batch_size,NUM_CLASSES))\n",
    "    for i in range(batch_size):\n",
    "        onehot_six_mult[i] = onehot_six\n",
    "        onehot_two_mult[i] = onehot_two\n",
    "\n",
    "    #define another optimizer to update input image\n",
    "    opt = tf.train.GradientDescentOptimizer(learning_rate=0.2).minimize(cross_entropy,var_list=[x_img_var])\n",
    "\n",
    "    #np array to store generated img\n",
    "    gen_imgs = input_imgs\n",
    "\n",
    "    #calculate batch size for testing dataset\n",
    "    iteration_num = math.ceil(mnist_data.test.labels.shape[0] / batch_size)\n",
    "    accu_total = 0\n",
    "    accu_mean = 0\n",
    "\n",
    "    ### generate\n",
    "    with tf.Session() as sess:\n",
    "         #initialize all variables\n",
    "        sess.run(tf.global_variables_initializer())\n",
    "\n",
    "        #restore parameter valuers\n",
    "        saver.restore(sess,\"./MNIST_weight/model_weight.ckpt\")\n",
    "        print('model is restored')\n",
    "\n",
    "        #for each image in extracted two, get gradient\n",
    "        for i in range(epochs): #110\n",
    "            #the formula for added noise is:\n",
    "            # n = epcilon * sign(gradient of loss respect to x)\n",
    "            sess.run(assign_x, feed_dict={x_data:np.reshape(gen_imgs,(batch_size,IMAGE_SIZE_1D))})\n",
    "            opt.run(feed_dict={y_label: onehot_six_mult, keep_prob: 0.5})\n",
    "            gen_imgs = sess.run(x_img_var)\n",
    "\n",
    "            if((i+1) % 10 == 0):\n",
    "                diff = np.reshape(gen_imgs,(batch_size,IMAGE_SIZE_1D)) - np.reshape(extracted_two_imgs,(batch_size,IMAGE_SIZE_1D))\n",
    "                diff_sum = np.sum(np.sum(diff))\n",
    "                print ('step%d: %.7f'%((i+1),diff_sum))\n",
    "\n",
    "        #error rate of classifying those images as six\n",
    "        sess.run(assign_x,feed_dict={x_data:np.reshape(gen_imgs,(batch_size,IMAGE_SIZE_1D))})\n",
    "        accu = accuracy.eval(feed_dict={y_label: onehot_six_mult, keep_prob: 1.0})\n",
    "        print ('error rate to classify the images as six is: %.4f' %accu)\n",
    "    \n",
    "        #check that to which catrgoly the added noise classified\n",
    "        n = np.reshape(gen_imgs,(batch_size,IMAGE_SIZE_1D)) - np.reshape(extracted_two_imgs,(batch_size,IMAGE_SIZE_1D))\n",
    "        sess.run(assign_x,feed_dict={x_data:np.reshape(n,(batch_size,IMAGE_SIZE_1D))})\n",
    "        pred_noise = sess.run(y_conv,feed_dict={keep_prob:1.0})\n",
    "        pred_noise_list = np.argmax(pred_noise,axis=1).tolist()\n",
    "        for i in range(batch_size):\n",
    "            print('prediction of noise%d: %d' %(i,pred_noise_list[i]))\n",
    "    \n",
    "        #make sure the model parameters are not updated\n",
    "        for k in range(iteration_num):\n",
    "            batch_test = mnist_data.test.next_batch(batch_size)\n",
    "            sess.run(assign_x,feed_dict={x_data:batch_test[0]})\n",
    "            accu_total += accuracy.eval(feed_dict={y_label: batch_test[1], keep_prob: 1.0})\n",
    "        accu_mean = accu_total / iteration_num\n",
    "        print('average test accuracy %.4f' %accu_mean )\n",
    "\n",
    "        #reshape the generated imgs \n",
    "        np.reshape(n,(batch_size,IMAGE_SIZE_1D))\n",
    "        np.reshape(gen_imgs,(batch_size,IMAGE_SIZE_1D))\n",
    "\n",
    "        return n,gen_imgs"
   ]
  },
  {
   "cell_type": "code",
   "execution_count": 26,
   "metadata": {},
   "outputs": [
    {
     "name": "stdout",
     "output_type": "stream",
     "text": [
      "INFO:tensorflow:Restoring parameters from ./MNIST_weight/model_weight.ckpt\n",
      "model is restored\n",
      "step10: 28.8635332\n",
      "step20: 56.6058042\n",
      "step30: 81.1396610\n",
      "step40: 101.4012705\n",
      "step50: 118.2494335\n",
      "step60: 133.0972746\n",
      "step70: 144.4568230\n",
      "step80: 153.1711919\n",
      "step90: 160.1786965\n",
      "step100: 165.5825876\n",
      "step110: 170.4527981\n",
      "error rate to classify the images as six is: 0.9800\n",
      "prediction of noise0: 1\n",
      "prediction of noise1: 1\n",
      "prediction of noise2: 1\n",
      "prediction of noise3: 7\n",
      "prediction of noise4: 1\n",
      "prediction of noise5: 1\n",
      "prediction of noise6: 1\n",
      "prediction of noise7: 1\n",
      "prediction of noise8: 1\n",
      "prediction of noise9: 1\n",
      "prediction of noise10: 1\n",
      "prediction of noise11: 1\n",
      "prediction of noise12: 1\n",
      "prediction of noise13: 1\n",
      "prediction of noise14: 1\n",
      "prediction of noise15: 1\n",
      "prediction of noise16: 1\n",
      "prediction of noise17: 1\n",
      "prediction of noise18: 1\n",
      "prediction of noise19: 1\n",
      "prediction of noise20: 1\n",
      "prediction of noise21: 1\n",
      "prediction of noise22: 1\n",
      "prediction of noise23: 1\n",
      "prediction of noise24: 1\n",
      "prediction of noise25: 1\n",
      "prediction of noise26: 1\n",
      "prediction of noise27: 1\n",
      "prediction of noise28: 1\n",
      "prediction of noise29: 1\n",
      "prediction of noise30: 1\n",
      "prediction of noise31: 1\n",
      "prediction of noise32: 1\n",
      "prediction of noise33: 1\n",
      "prediction of noise34: 1\n",
      "prediction of noise35: 1\n",
      "prediction of noise36: 1\n",
      "prediction of noise37: 1\n",
      "prediction of noise38: 1\n",
      "prediction of noise39: 1\n",
      "prediction of noise40: 1\n",
      "prediction of noise41: 1\n",
      "prediction of noise42: 1\n",
      "prediction of noise43: 7\n",
      "prediction of noise44: 1\n",
      "prediction of noise45: 1\n",
      "prediction of noise46: 1\n",
      "prediction of noise47: 1\n",
      "prediction of noise48: 1\n",
      "prediction of noise49: 1\n",
      "average test accuracy 0.9618\n"
     ]
    }
   ],
   "source": [
    "#generarte adversary images\n",
    "added_noise,generated_imgs = convnet_model_adversary_six(110,batch_siz,extracted_two_imgs)"
   ]
  },
  {
   "cell_type": "markdown",
   "metadata": {},
   "source": [
    "visualize noise images added"
   ]
  },
  {
   "cell_type": "code",
   "execution_count": 30,
   "metadata": {},
   "outputs": [
    {
     "data": {
      "text/plain": [
       "<matplotlib.image.AxesImage at 0x7f59a80eac18>"
      ]
     },
     "execution_count": 30,
     "metadata": {},
     "output_type": "execute_result"
    },
    {
     "data": {
      "image/png": "[encoded data removed]",
      "text/plain": [
       "<matplotlib.figure.Figure at 0x7f59a8127b70>"
      ]
     },
     "metadata": {},
     "output_type": "display_data"
    }
   ],
   "source": [
    "plt.imshow(np.reshape(added_noise[1],(28,28)),cmap='gray')"
   ]
  },
  {
   "cell_type": "markdown",
   "metadata": {},
   "source": [
    "visualize generated img"
   ]
  },
  {
   "cell_type": "code",
   "execution_count": 31,
   "metadata": {},
   "outputs": [
    {
     "data": {
      "text/plain": [
       "<matplotlib.image.AxesImage at 0x7f59a8051470>"
      ]
     },
     "execution_count": 31,
     "metadata": {},
     "output_type": "execute_result"
    },
    {
     "data": {
      "image/png": "[encoded data removed]",
      "text/plain": [
       "<matplotlib.figure.Figure at 0x7f59a808e2b0>"
      ]
     },
     "metadata": {},
     "output_type": "display_data"
    }
   ],
   "source": [
    "plt.imshow(np.reshape(generated_imgs[1],(28,28)),cmap='gray')"
   ]
  },
  {
   "cell_type": "code",
   "execution_count": null,
   "metadata": {},
   "outputs": [],
   "source": [
    "#compare original img, added noise and generated images\n"
   ]
  }
 ],
 "metadata": {
  "kernelspec": {
   "display_name": "Python 2",
   "language": "python",
   "name": "python2"
  },
  "language_info": {
   "codemirror_mode": {
    "name": "ipython",
    "version": 3
   },
   "file_extension": ".py",
   "mimetype": "text/x-python",
   "name": "python",
   "nbconvert_exporter": "python",
   "pygments_lexer": "ipython3",
   "version": "3.5.2"
  }
 },
 "nbformat": 4,
 "nbformat_minor": 2
}
