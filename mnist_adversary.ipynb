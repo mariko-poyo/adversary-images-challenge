{
 "cells": [
  {
   "cell_type": "markdown",
   "metadata": {},
   "source": [
    "## generate adversary image \n",
    "This code is trying to generate adversary images based on MNIST classifier provided in Tensorflow Tutorial"
   ]
  },
  {
   "cell_type": "markdown",
   "metadata": {},
   "source": [
    "### TensorFlow Tutorial  #1 (linear regression)"
   ]
  },
  {
   "cell_type": "code",
   "execution_count": 1,
   "metadata": {},
   "outputs": [],
   "source": [
    "#import libraries\n",
    "from tensorflow.examples.tutorials.mnist import input_data\n",
    "import tensorflow as tf\n",
    "import numpy as np\n",
    "import matplotlib.pyplot as plt\n",
    "import math\n",
    "import pickle\n",
    "%matplotlib inline"
   ]
  },
  {
   "cell_type": "markdown",
   "metadata": {},
   "source": [
    " load the dataset as written in tutorial"
   ]
  },
  {
   "cell_type": "code",
   "execution_count": 2,
   "metadata": {},
   "outputs": [
    {
     "name": "stdout",
     "output_type": "stream",
     "text": [
      "Extracting MNIST_data/train-images-idx3-ubyte.gz\n",
      "Extracting MNIST_data/train-labels-idx1-ubyte.gz\n",
      "Extracting MNIST_data/t10k-images-idx3-ubyte.gz\n",
      "Extracting MNIST_data/t10k-labels-idx1-ubyte.gz\n"
     ]
    }
   ],
   "source": [
    "#load mnist dataset\n",
    "mnist_data = input_data.read_data_sets('MNIST_data', one_hot=True)"
   ]
  },
  {
   "cell_type": "code",
   "execution_count": 3,
   "metadata": {},
   "outputs": [],
   "source": [
    "#define placeholders\n",
    "x_data = tf.placeholder(tf.float32, shape=[None, 784])\n",
    "y_label = tf.placeholder(tf.float32, shape=[None, 10])"
   ]
  },
  {
   "cell_type": "code",
   "execution_count": 4,
   "metadata": {},
   "outputs": [],
   "source": [
    "#linear regression model\n",
    "def linear_model(epochs, batch_size,epsilon):\n",
    "    #follow TensorFlow turtorial\n",
    "    #linear regression model\n",
    "    \n",
    "    #declare variables\n",
    "    W = tf.Variable(tf.zeros([784,10]))\n",
    "    b = tf.Variable(tf.zeros([10]))\n",
    "    \n",
    "     #setup loss function, gradient step, prediction, accuravy etc. \n",
    "    pred = tf.matmul(x_data,W) + b\n",
    "    cross_entropy = tf.reduce_mean(tf.nn.softmax_cross_entropy_with_logits(labels=y_label, logits=pred))\n",
    "    train_step = tf.train.GradientDescentOptimizer(0.5).minimize(cross_entropy)\n",
    "    correct_prediction = tf.equal(tf.argmax(pred,1), tf.argmax(y_label,1))\n",
    "    accuracy = tf.reduce_mean(tf.cast(correct_prediction, tf.float32))\n",
    "    \n",
    "    #set flags to pick up images of digit two\n",
    "    isDigitTwo = tf.equal(tf.argmax(pred,1), 2)\n",
    "    isCorrectTwo = tf.cast(tf.cast(correct_prediction,tf.float32) * tf.cast(isDigitTwo, tf.float32),tf.bool)\n",
    "    isCorrectTwo_index = tf.where(isCorrectTwo)\n",
    "    \n",
    "    #define labels of digit two img\n",
    "    two_label = [2]\n",
    "    label_onehot_two = np.eye(10)[two_label]\n",
    "    six_label = [6]\n",
    "    label_onehot_six = np.eye(10)[six_label]\n",
    "    \n",
    "    #np array to store generated imgs and extracted imgs\n",
    "    generated_imgs = np.zeros((10,784))\n",
    "    extracted_two_imgs = np.zeros((10,784))\n",
    "    \n",
    "    with tf.Session() as sess:\n",
    "        #initialize variables\n",
    "        sess.run(tf.global_variables_initializer())\n",
    "\n",
    "        #train the model\n",
    "        for _ in range(epochs):\n",
    "            batch = mnist_data.train.next_batch(batch_size)\n",
    "            train_step.run(feed_dict={x_data: batch[0], y_label: batch[1]})\n",
    "\n",
    "        #evaluate the model by accuracy\n",
    "        print(\"Accuracy is:\", accuracy.eval(feed_dict={x_data: mnist_data.test.images, y_label: mnist_data.test.labels}))\n",
    "        \n",
    "        #extract 10 samples of digit two images\n",
    "        pred_two = sess.run(isCorrectTwo_index, feed_dict={x_data:mnist_data.test.images,y_label: mnist_data.test.labels})\n",
    "        index_two = [item for sublist in pred_two.tolist() for item in sublist]\n",
    "        for j in range(10):\n",
    "            extracted_two_imgs[j] = mnist_data.test.images[index_two[j]]\n",
    "        \n",
    "        ### generate adversary images ###\n",
    "        #get the gradient of image six\n",
    "        # gradient = gradient of WX + b respect to X -> gradient =  W\n",
    "        # noise = epsilon * sign(gradient)\n",
    "        W_var = sess.run(W)\n",
    "        noise_six = epsilon * np.sign(W_var[:,6])\n",
    "        \n",
    "        for i in range(10):\n",
    "            generated_imgs[i] = noise_six + extracted_two_imgs[i] \n",
    "            pred_w = sess.run(pred,feed_dict={x_data:np.reshape(generated_imgs[i],(1,784))})\n",
    "            pred_w_index = np.argmax(pred_w)\n",
    "            print ('prediction: %d' %pred_w_index)\n",
    "        \n",
    "        return generated_imgs,extracted_two_imgs;\n",
    "        \n",
    "        \n",
    "    "
   ]
  },
  {
   "cell_type": "code",
   "execution_count": 5,
   "metadata": {},
   "outputs": [
    {
     "name": "stdout",
     "output_type": "stream",
     "text": [
      "Accuracy is: 0.9185\n",
      "prediction: 6\n",
      "prediction: 6\n",
      "prediction: 6\n",
      "prediction: 6\n",
      "prediction: 6\n",
      "prediction: 6\n",
      "prediction: 6\n",
      "prediction: 6\n",
      "prediction: 6\n",
      "prediction: 6\n"
     ]
    }
   ],
   "source": [
    "#run the model\n",
    "gen_imgs,org_imgs = linear_model(1000,100,0.25)"
   ]
  },
  {
   "cell_type": "code",
   "execution_count": 6,
   "metadata": {},
   "outputs": [
    {
     "data": {
      "text/plain": [
       "<matplotlib.image.AxesImage at 0x7f4c92d8ba58>"
      ]
     },
     "execution_count": 6,
     "metadata": {},
     "output_type": "execute_result"
    },
    {
     "data": {
      "image/png": "[encoded data removed]",
      "text/plain": [
       "<matplotlib.figure.Figure at 0x7f4c95682dd8>"
      ]
     },
     "metadata": {},
     "output_type": "display_data"
    }
   ],
   "source": [
    "#visualize generated img\n",
    "plt.imshow(np.reshape(gen_imgs[0],(28,28)), cmap='gray')"
   ]
  },
  {
   "cell_type": "code",
   "execution_count": 7,
   "metadata": {},
   "outputs": [
    {
     "data": {
      "text/plain": [
       "<matplotlib.image.AxesImage at 0x7f4c92cb2828>"
      ]
     },
     "execution_count": 7,
     "metadata": {},
     "output_type": "execute_result"
    },
    {
     "data": {
      "image/png": "[encoded data removed]",
      "text/plain": [
       "<matplotlib.figure.Figure at 0x7f4c92d842e8>"
      ]
     },
     "metadata": {},
     "output_type": "display_data"
    }
   ],
   "source": [
    "#visualize added weight\n",
    "weight_added = gen_imgs - org_imgs\n",
    "plt.imshow(np.reshape(weight_added[0],(28,28)),cmap='gray')"
   ]
  },
  {
   "cell_type": "markdown",
   "metadata": {},
   "source": [
    "### TensorFlow Tutorial #2 (ConvNet)"
   ]
  },
  {
   "cell_type": "code",
   "execution_count": 8,
   "metadata": {},
   "outputs": [],
   "source": [
    "#reshapre input data\n",
    "x_image = tf.reshape(x_data, [-1, 28, 28, 1])\n",
    "\n",
    "#define variable for input image, first dimension shouold be same as batch size\n",
    "x_img_var = tf.Variable(tf.zeros([50,28,28,1]),trainable=False)\n",
    "\n",
    "#assign openration for x_image\n",
    "assign_x = tf.assign(x_img_var, x_image)"
   ]
  },
  {
   "cell_type": "markdown",
   "metadata": {},
   "source": [
    "declare saver to save all parameter values after training"
   ]
  },
  {
   "cell_type": "code",
   "execution_count": 9,
   "metadata": {},
   "outputs": [],
   "source": [
    "#functions for declare variables\n",
    "def weight_variable(shape,name_):\n",
    "    initial = tf.truncated_normal(shape, stddev=0.1)\n",
    "    return tf.Variable(initial,name=name_)\n",
    "\n",
    "def bias_variable(shape,name_):\n",
    "    initial = tf.constant(0.1, shape=shape)\n",
    "    return tf.Variable(initial,name=name_)\n",
    "\n",
    "#functions to define conv layer and pooling layes\n",
    "def conv2d(x, W):\n",
    "    return tf.nn.conv2d(x, W, strides=[1, 1, 1, 1], padding='SAME')\n",
    "\n",
    "def max_pool_2x2(x):\n",
    "    return tf.nn.max_pool(x, ksize=[1, 2, 2, 1],strides=[1, 2, 2, 1], padding='SAME')"
   ]
  },
  {
   "cell_type": "code",
   "execution_count": 10,
   "metadata": {},
   "outputs": [
    {
     "name": "stdout",
     "output_type": "stream",
     "text": [
      "step 0, training accuracy 0\n",
      "step 100, training accuracy 0.82\n",
      "step 200, training accuracy 0.88\n",
      "step 300, training accuracy 0.9\n",
      "step 400, training accuracy 0.94\n",
      "step 500, training accuracy 0.94\n",
      "step 600, training accuracy 0.98\n",
      "step 700, training accuracy 0.98\n",
      "step 800, training accuracy 0.9\n",
      "step 900, training accuracy 1\n",
      "step 1000, training accuracy 0.92\n",
      "step 1100, training accuracy 0.96\n",
      "step 1200, training accuracy 0.96\n",
      "step 1300, training accuracy 0.94\n",
      "step 1400, training accuracy 0.96\n",
      "step 1500, training accuracy 0.96\n",
      "step 1600, training accuracy 0.94\n",
      "step 1700, training accuracy 0.94\n",
      "step 1800, training accuracy 0.98\n",
      "step 1900, training accuracy 0.94\n",
      "step 2000, training accuracy 1\n",
      "step 2100, training accuracy 0.98\n",
      "step 2200, training accuracy 0.98\n",
      "step 2300, training accuracy 1\n",
      "step 2400, training accuracy 1\n",
      "step 2500, training accuracy 0.98\n",
      "step 2600, training accuracy 0.98\n",
      "step 2700, training accuracy 0.98\n",
      "step 2800, training accuracy 0.98\n",
      "step 2900, training accuracy 1\n",
      "step 3000, training accuracy 0.98\n",
      "step 3100, training accuracy 1\n",
      "step 3200, training accuracy 0.98\n",
      "step 3300, training accuracy 1\n",
      "step 3400, training accuracy 0.98\n",
      "step 3500, training accuracy 1\n",
      "step 3600, training accuracy 0.98\n",
      "step 3700, training accuracy 0.98\n",
      "step 3800, training accuracy 0.98\n",
      "step 3900, training accuracy 0.96\n",
      "step 4000, training accuracy 0.98\n",
      "step 4100, training accuracy 0.98\n",
      "step 4200, training accuracy 0.98\n",
      "step 4300, training accuracy 0.98\n",
      "step 4400, training accuracy 0.98\n",
      "step 4500, training accuracy 1\n",
      "step 4600, training accuracy 0.94\n",
      "step 4700, training accuracy 0.98\n",
      "step 4800, training accuracy 1\n",
      "step 4900, training accuracy 1\n",
      "step 5000, training accuracy 0.98\n",
      "step 5100, training accuracy 1\n",
      "step 5200, training accuracy 0.98\n",
      "step 5300, training accuracy 0.96\n",
      "step 5400, training accuracy 0.98\n",
      "step 5500, training accuracy 0.98\n",
      "step 5600, training accuracy 1\n",
      "step 5700, training accuracy 1\n",
      "step 5800, training accuracy 1\n",
      "step 5900, training accuracy 1\n",
      "step 6000, training accuracy 1\n",
      "step 6100, training accuracy 1\n",
      "step 6200, training accuracy 1\n",
      "step 6300, training accuracy 1\n",
      "step 6400, training accuracy 0.96\n",
      "step 6500, training accuracy 1\n",
      "step 6600, training accuracy 1\n",
      "step 6700, training accuracy 1\n",
      "step 6800, training accuracy 0.98\n",
      "step 6900, training accuracy 1\n",
      "step 7000, training accuracy 1\n",
      "step 7100, training accuracy 0.98\n",
      "step 7200, training accuracy 0.98\n",
      "step 7300, training accuracy 1\n",
      "step 7400, training accuracy 1\n",
      "step 7500, training accuracy 0.98\n",
      "step 7600, training accuracy 0.98\n",
      "step 7700, training accuracy 1\n",
      "step 7800, training accuracy 0.98\n",
      "step 7900, training accuracy 1\n",
      "step 8000, training accuracy 0.96\n",
      "step 8100, training accuracy 1\n",
      "step 8200, training accuracy 1\n",
      "step 8300, training accuracy 0.96\n",
      "step 8400, training accuracy 1\n",
      "step 8500, training accuracy 1\n",
      "step 8600, training accuracy 0.98\n",
      "step 8700, training accuracy 1\n",
      "step 8800, training accuracy 1\n",
      "step 8900, training accuracy 1\n",
      "step 9000, training accuracy 1\n",
      "step 9100, training accuracy 1\n",
      "step 9200, training accuracy 1\n",
      "step 9300, training accuracy 0.98\n",
      "step 9400, training accuracy 0.98\n",
      "step 9500, training accuracy 1\n",
      "step 9600, training accuracy 1\n",
      "step 9700, training accuracy 0.96\n",
      "step 9800, training accuracy 0.98\n",
      "step 9900, training accuracy 1\n",
      "step 10000, training accuracy 1\n",
      "step 10100, training accuracy 1\n",
      "step 10200, training accuracy 1\n",
      "step 10300, training accuracy 1\n",
      "step 10400, training accuracy 1\n",
      "step 10500, training accuracy 1\n",
      "step 10600, training accuracy 1\n",
      "step 10700, training accuracy 1\n",
      "step 10800, training accuracy 1\n",
      "step 10900, training accuracy 1\n",
      "step 11000, training accuracy 0.98\n",
      "step 11100, training accuracy 0.98\n",
      "step 11200, training accuracy 1\n",
      "step 11300, training accuracy 1\n",
      "step 11400, training accuracy 1\n",
      "step 11500, training accuracy 1\n",
      "step 11600, training accuracy 1\n",
      "step 11700, training accuracy 0.98\n",
      "step 11800, training accuracy 0.98\n",
      "step 11900, training accuracy 1\n",
      "step 12000, training accuracy 1\n",
      "step 12100, training accuracy 1\n",
      "step 12200, training accuracy 1\n",
      "step 12300, training accuracy 1\n",
      "step 12400, training accuracy 1\n",
      "step 12500, training accuracy 1\n",
      "step 12600, training accuracy 0.98\n",
      "step 12700, training accuracy 1\n",
      "step 12800, training accuracy 1\n",
      "step 12900, training accuracy 1\n",
      "step 13000, training accuracy 1\n",
      "step 13100, training accuracy 1\n",
      "step 13200, training accuracy 1\n",
      "step 13300, training accuracy 1\n",
      "step 13400, training accuracy 1\n",
      "step 13500, training accuracy 1\n",
      "step 13600, training accuracy 1\n",
      "step 13700, training accuracy 1\n",
      "step 13800, training accuracy 1\n",
      "step 13900, training accuracy 1\n",
      "step 14000, training accuracy 1\n",
      "step 14100, training accuracy 1\n",
      "step 14200, training accuracy 1\n",
      "step 14300, training accuracy 1\n",
      "step 14400, training accuracy 1\n",
      "step 14500, training accuracy 1\n",
      "step 14600, training accuracy 1\n",
      "step 14700, training accuracy 1\n",
      "step 14800, training accuracy 1\n",
      "step 14900, training accuracy 0.98\n",
      "step 15000, training accuracy 1\n",
      "step 15100, training accuracy 1\n",
      "step 15200, training accuracy 1\n",
      "step 15300, training accuracy 1\n",
      "step 15400, training accuracy 1\n",
      "step 15500, training accuracy 1\n",
      "step 15600, training accuracy 1\n",
      "step 15700, training accuracy 1\n",
      "step 15800, training accuracy 1\n",
      "step 15900, training accuracy 1\n",
      "step 16000, training accuracy 1\n",
      "step 16100, training accuracy 1\n",
      "step 16200, training accuracy 0.98\n",
      "step 16300, training accuracy 1\n",
      "step 16400, training accuracy 1\n",
      "step 16500, training accuracy 1\n",
      "step 16600, training accuracy 1\n",
      "step 16700, training accuracy 1\n",
      "step 16800, training accuracy 1\n",
      "step 16900, training accuracy 1\n",
      "step 17000, training accuracy 1\n",
      "step 17100, training accuracy 0.98\n",
      "step 17200, training accuracy 1\n",
      "step 17300, training accuracy 1\n",
      "step 17400, training accuracy 1\n",
      "step 17500, training accuracy 1\n",
      "step 17600, training accuracy 1\n",
      "step 17700, training accuracy 1\n",
      "step 17800, training accuracy 1\n",
      "step 17900, training accuracy 1\n",
      "step 18000, training accuracy 1\n",
      "step 18100, training accuracy 1\n",
      "step 18200, training accuracy 1\n",
      "step 18300, training accuracy 1\n",
      "step 18400, training accuracy 1\n",
      "step 18500, training accuracy 1\n",
      "step 18600, training accuracy 1\n",
      "step 18700, training accuracy 1\n",
      "step 18800, training accuracy 1\n",
      "step 18900, training accuracy 1\n",
      "step 19000, training accuracy 1\n",
      "step 19100, training accuracy 1\n",
      "step 19200, training accuracy 1\n",
      "step 19300, training accuracy 1\n",
      "step 19400, training accuracy 1\n",
      "step 19500, training accuracy 1\n",
      "step 19600, training accuracy 1\n",
      "step 19700, training accuracy 1\n",
      "step 19800, training accuracy 1\n",
      "step 19900, training accuracy 1\n",
      "step 19999, training accuracy 1\n",
      "average test accuracy 0.9920\n",
      "weight saved to ./MNIST_weight/model_weight.ckpt\n"
     ]
    }
   ],
   "source": [
    "#convnet model\n",
    "#declare parameter values\n",
    "W_conv1 = weight_variable([5, 5, 1, 32],\"W_conv1\")\n",
    "b_conv1 = bias_variable([32],\"b_conv1\")\n",
    "W_conv2 = weight_variable([5, 5, 32, 64],\"W_conv2\")\n",
    "b_conv2 = bias_variable([64],\"b_conv2\")\n",
    "W_fc1 = weight_variable([7 * 7 * 64, 1024],\"W_fc1\")\n",
    "b_fc1 = bias_variable([1024],\"b_fc1\")\n",
    "W_fc2 = weight_variable([1024, 10],\"W_fc2\")\n",
    "b_fc2 = bias_variable([10],\"b_fc2\")\n",
    "\n",
    "#declare saver to save all parameter values and retrieve it later\n",
    "#saver = tf.train.Saver([W_conv1,b_conv1,W_conv2,b_conv2,W_fc1,b_fc1,W_fc2,b_fc2])\n",
    "\n",
    "#first layer\n",
    "h_conv1 = tf.nn.relu(conv2d(x_img_var, W_conv1) + b_conv1)\n",
    "h_pool1 = max_pool_2x2(h_conv1)\n",
    "\n",
    "#second conv layer\n",
    "h_conv2 = tf.nn.relu(conv2d(h_pool1, W_conv2) + b_conv2)\n",
    "h_pool2 = max_pool_2x2(h_conv2)\n",
    "\n",
    "#flatten->fc layer->dropout\n",
    "h_pool2_flat = tf.reshape(h_pool2, [-1, 7*7*64])\n",
    "h_fc1 = tf.nn.relu(tf.matmul(h_pool2_flat, W_fc1) + b_fc1)\n",
    "keep_prob = tf.placeholder(tf.float32)\n",
    "h_fc1_drop = tf.nn.dropout(h_fc1, keep_prob)\n",
    "\n",
    "#last layer\n",
    "y_conv = tf.matmul(h_fc1_drop, W_fc2) + b_fc2\n",
    "\n",
    "#define loss func, gradient step, prediction\n",
    "cross_entropy = tf.reduce_mean(tf.nn.softmax_cross_entropy_with_logits(labels=y_label, logits=y_conv))\n",
    "train_step = tf.train.AdamOptimizer(1e-4).minimize(cross_entropy,var_list=[W_conv1, b_conv1,W_conv2,b_conv2,W_fc1,b_fc1,W_fc2,b_fc2])\n",
    "correct_prediction = tf.equal(tf.argmax(y_conv, 1), tf.argmax(y_label, 1))\n",
    "accuracy = tf.reduce_mean(tf.cast(correct_prediction, tf.float32))\n",
    "\n",
    "#define flags etc. to extract digit 2 images\n",
    "isDigitTwo = tf.equal(tf.argmax(y_label,1), 2)\n",
    "isCorrectTwo = tf.cast(tf.cast(correct_prediction,tf.float32) * tf.cast(isDigitTwo, tf.float32),tf.bool)\n",
    "isCorrectTwo_index = tf.where(isCorrectTwo)\n",
    "\n",
    "#also extract image of six\n",
    "isDigitSix = tf.equal(tf.argmax(y_label,1), 6)\n",
    "isCorrectSix = tf.cast(tf.cast(correct_prediction,tf.float32) * tf.cast(isDigitSix, tf.float32),tf.bool)\n",
    "isCorrectSix_index = tf.where(isCorrectSix)\n",
    "\n",
    "saver = tf.train.Saver(tf.global_variables()) #[W_conv1,b_conv1,W_conv2,b_conv2,W_fc1,b_fc1,W_fc2,b_fc2]\n",
    "\n",
    "#declare list to store extracted images and counter\n",
    "extracted_two_imgs = np.zeros((50,784))\n",
    "count = 0\n",
    "\n",
    "#calculate batch size for testing dataset\n",
    "iteration_num = math.ceil(mnist_data.test.labels.shape[0] / 50)\n",
    "accu_total = 0\n",
    "accu_mean = 0\n",
    "\n",
    "#train, evaluate\n",
    "with tf.Session() as sess:\n",
    "    #initialize parameters\n",
    "    sess.run(tf.global_variables_initializer())\n",
    "    \n",
    "    for i in range(20000): #20000\n",
    "        batch = mnist_data.train.next_batch(50)\n",
    "        sess.run(assign_x, feed_dict={x_data:batch[0]})\n",
    "        if i % 100 == 0:\n",
    "            train_accuracy = accuracy.eval(feed_dict={y_label: batch[1], keep_prob: 1.0})\n",
    "            print('step %d, training accuracy %g' % (i, train_accuracy))\n",
    "        train_step.run(feed_dict={y_label: batch[1], keep_prob: 0.5})\n",
    "    train_accuracy = accuracy.eval(feed_dict={x_data: batch[0], y_label: batch[1], keep_prob: 1.0})\n",
    "    print('step %d, training accuracy %g' % (i, train_accuracy)) \n",
    "    \n",
    "    #evaluate the accuracy by test set\n",
    "    for k in range(iteration_num):\n",
    "        batch_test = mnist_data.test.next_batch(50)\n",
    "        sess.run(assign_x,feed_dict={x_data:batch_test[0]})\n",
    "        accu_total += accuracy.eval(feed_dict={y_label: batch_test[1], keep_prob: 1.0})\n",
    "    accu_mean = accu_total / iteration_num\n",
    "    print('average test accuracy %.4f' %accu_mean )\n",
    "    \n",
    "    #save the current parameter values\n",
    "    save_path = saver.save(sess,\"./MNIST_weight/model_weight.ckpt\")\n",
    "    print('weight saved to %s' %save_path)\n",
    "    "
   ]
  },
  {
   "cell_type": "markdown",
   "metadata": {},
   "source": [
    "### try to generate adversary images"
   ]
  },
  {
   "cell_type": "markdown",
   "metadata": {},
   "source": [
    "try to generate adversary images by adding some noise to extracted image of digit 2. \n",
    "On writing this part, this link was really useful. [PASTE LINK LATER]"
   ]
  },
  {
   "cell_type": "markdown",
   "metadata": {},
   "source": [
    "first, try to visualize extracted imgs"
   ]
  },
  {
   "cell_type": "code",
   "execution_count": 11,
   "metadata": {},
   "outputs": [
    {
     "name": "stdout",
     "output_type": "stream",
     "text": [
      "INFO:tensorflow:Restoring parameters from ./MNIST_weight/model_weight.ckpt\n",
      "model is restored\n",
      "average test accuracy 0.9920\n"
     ]
    }
   ],
   "source": [
    "#extract the images of digit two\n",
    "\n",
    "#define flags etc. to extract digit 2 images\n",
    "isDigitTwo = tf.equal(tf.argmax(y_label,1), 2)\n",
    "isCorrectTwo = tf.cast(tf.cast(correct_prediction,tf.float32) * tf.cast(isDigitTwo, tf.float32),tf.bool)\n",
    "isCorrectTwo_index = tf.where(isCorrectTwo)\n",
    "\n",
    "#declare list to store extracted images and counter\n",
    "extracted_two_imgs = np.zeros((50,784))\n",
    "count = 0\n",
    "\n",
    "#calculate batch size for testing dataset\n",
    "iteration_num = math.ceil(mnist_data.test.labels.shape[0] / 50)\n",
    "accu_total = 0\n",
    "accu_mean = 0\n",
    "\n",
    "### extract the img data\n",
    "with tf.Session() as sess:\n",
    "    #initialize all variables\n",
    "    sess.run(tf.global_variables_initializer())\n",
    "    \n",
    "    #restore parameter valuers\n",
    "    saver.restore(sess,\"./MNIST_weight/model_weight.ckpt\")\n",
    "    print('model is restored')\n",
    "    \n",
    "    #make sure the model is resotred properly\n",
    "    for k in range(iteration_num):\n",
    "        batch_test = mnist_data.test.next_batch(50)\n",
    "        sess.run(assign_x,feed_dict={x_data:batch_test[0]})\n",
    "        accu_total += accuracy.eval(feed_dict={y_label: batch_test[1], keep_prob: 1.0})\n",
    "    accu_mean = accu_total / iteration_num\n",
    "    print('average test accuracy %.4f' %accu_mean )\n",
    "    \n",
    "    #iterate test data set\n",
    "    for i in range(iteration_num):\n",
    "        batch_test = mnist_data.test.next_batch(50)\n",
    "        sess.run(assign_x,feed_dict={x_data:batch_test[0]})\n",
    "        \n",
    "        #extract digit two\n",
    "        i = 0\n",
    "        pred_two = sess.run(isCorrectTwo_index, feed_dict={y_label: batch_test[1], keep_prob:1.0})\n",
    "        index_two = [item for sublist in pred_two.tolist() for item in sublist]\n",
    "        while( 50 > count and i < len(index_two)):\n",
    "            extracted_two_imgs[count] = batch_test[0][index_two[i]]\n",
    "            i += 1\n",
    "            count += 1\n",
    "    \n",
    "    #pickle extracted imgs\n",
    "    with open('./mnist_extract_imgs.p','wb') as f:\n",
    "        pickle.dump([extracted_two_imgs],f)"
   ]
  },
  {
   "cell_type": "code",
   "execution_count": 12,
   "metadata": {},
   "outputs": [
    {
     "data": {
      "text/plain": [
       "<matplotlib.text.Text at 0x7f4c914f3860>"
      ]
     },
     "execution_count": 12,
     "metadata": {},
     "output_type": "execute_result"
    },
    {
     "data": {
      "image/png": "[encoded data removed]",
      "text/plain": [
       "<matplotlib.figure.Figure at 0x7f4c92cb8160>"
      ]
     },
     "metadata": {},
     "output_type": "display_data"
    }
   ],
   "source": [
    "#visualize one of the samples in extracted_two_imgs\n",
    "data = extracted_two_imgs[0]\n",
    "plt.imshow(np.reshape(data,(28,28)),cmap='gray')\n",
    "plt.title(\"extracted digit 2 image\")"
   ]
  },
  {
   "cell_type": "markdown",
   "metadata": {},
   "source": [
    "re-define parameters as untrainable and also define noise images as variable"
   ]
  },
  {
   "cell_type": "markdown",
   "metadata": {},
   "source": [
    "generate new images by using the model weights"
   ]
  },
  {
   "cell_type": "code",
   "execution_count": 18,
   "metadata": {},
   "outputs": [
    {
     "name": "stdout",
     "output_type": "stream",
     "text": [
      "INFO:tensorflow:Restoring parameters from ./MNIST_weight/model_weight.ckpt\n",
      "model is restored\n",
      "step10: 41.0168385\n",
      "step20: 76.7196504\n",
      "step30: 106.3568310\n",
      "step40: 129.0277603\n",
      "step50: 143.6543441\n",
      "step60: 155.8226482\n",
      "step70: 163.3373270\n",
      "step80: 168.3240022\n",
      "step90: 171.5718697\n",
      "step100: 173.4156371\n",
      "error rate to classify the images as six is: 0.9800\n",
      "average test accuracy 0.9920\n"
     ]
    }
   ],
   "source": [
    "#generate new image \n",
    "#retrieve variables \n",
    "with open('./mnist_extract_imgs.p','rb') as f:\n",
    "    extracted_two_imgs = pickle.load(f)\n",
    "\n",
    "#define correct class and make it one-hot code\n",
    "class_two = [2]\n",
    "onehot_two = np.eye(10)[class_two]\n",
    "class_six = [6]\n",
    "onehot_six = np.eye(10)[class_six]\n",
    "onehot_six_mult = np.zeros((50,10))\n",
    "onehot_two_mult = np.zeros((50,10))\n",
    "for i in range(50):\n",
    "    onehot_six_mult[i] = onehot_six\n",
    "    onehot_two_mult[i] = onehot_two\n",
    "\n",
    "#re-define loss function etc.\n",
    "gradient = tf.gradients(y_conv,x_img_var)\n",
    "epsilon = 0.25\n",
    "\n",
    "#define another optimizer to update input image\n",
    "opt = tf.train.GradientDescentOptimizer(learning_rate=0.2).minimize(cross_entropy,var_list=[x_img_var])\n",
    "\n",
    "#np array to store generated img\n",
    "gen_imgs = extracted_two_imgs\n",
    "\n",
    "#calculate batch size for testing dataset\n",
    "iteration_num = math.ceil(mnist_data.test.labels.shape[0] / 50)\n",
    "accu_total = 0\n",
    "accu_mean = 0\n",
    "\n",
    "### generate\n",
    "with tf.Session() as sess:\n",
    "     #initialize all variables\n",
    "    sess.run(tf.global_variables_initializer())\n",
    "    \n",
    "    #restore parameter valuers\n",
    "    saver.restore(sess,\"./MNIST_weight/model_weight.ckpt\")\n",
    "    print('model is restored')\n",
    "    \n",
    "    #for each image in extracted two, get gradient\n",
    "    for i in range(100):\n",
    "        #the formula for added noise is:\n",
    "        # n = epcilon * sign(gradient of loss respect to x)\n",
    "        sess.run(assign_x, feed_dict={x_data:np.reshape(gen_imgs,(50,784))})\n",
    "        opt.run(feed_dict={y_label: onehot_six_mult, keep_prob: 0.5})\n",
    "        gen_imgs = sess.run(x_img_var)\n",
    "        \n",
    "        if((i+1) % 10 == 0):\n",
    "            diff = np.reshape(gen_imgs,(50,784)) - np.reshape(extracted_two_imgs,(50,784))\n",
    "            diff_sum = np.sum(np.sum(diff))\n",
    "            print ('step%d: %.7f'%((i+1),diff_sum))\n",
    "        \n",
    "        #grad_img = sess.run(gradient, feed_dict={y_label:onehot_six_mult,keep_prob:1.0})\n",
    "        #noise =  epsilon * np.sign(grad_img)\n",
    "        #gen_imgs = np.reshape(noise,(50,784)) + gen_imgs\n",
    "\n",
    "    #printout prediction\n",
    "    sess.run(assign_x,feed_dict={x_data:np.reshape(gen_imgs,(50,784))})\n",
    "    pred_wrong = sess.run(y_conv, feed_dict={keep_prob:1.0})\n",
    "    #pred_id = np.argmax(pred_wrong)\n",
    "    \n",
    "    #error rate of classifying those images as six\n",
    "    accu = accuracy.eval(feed_dict={y_label: onehot_six_mult, keep_prob: 1.0})\n",
    "    print ('error rate to classify the images as six is: %.4f' %accu)\n",
    "    \n",
    "    #make sure the model parameters are not updated\n",
    "    for k in range(iteration_num):\n",
    "        batch_test = mnist_data.test.next_batch(50)\n",
    "        sess.run(assign_x,feed_dict={x_data:batch_test[0]})\n",
    "        accu_total += accuracy.eval(feed_dict={y_label: batch_test[1], keep_prob: 1.0})\n",
    "    accu_mean = accu_total / iteration_num\n",
    "    print('average test accuracy %.4f' %accu_mean )\n",
    "    \n",
    "    #reshape the generated imgs \n",
    "    n = np.reshape(gen_imgs,(50,784)) - np.reshape(extracted_two_imgs,(50,784))\n",
    "    np.reshape(n,(50,784))\n",
    "    np.reshape(gen_imgs,(50,784))\n",
    "\n",
    "        "
   ]
  },
  {
   "cell_type": "markdown",
   "metadata": {},
   "source": [
    "visualize noise images added"
   ]
  },
  {
   "cell_type": "code",
   "execution_count": 19,
   "metadata": {},
   "outputs": [
    {
     "data": {
      "text/plain": [
       "<matplotlib.image.AxesImage at 0x7f4c8c80d898>"
      ]
     },
     "execution_count": 19,
     "metadata": {},
     "output_type": "execute_result"
    },
    {
     "data": {
      "image/png": "[encoded data removed]",
      "text/plain": [
       "<matplotlib.figure.Figure at 0x7f4c8f6dfda0>"
      ]
     },
     "metadata": {},
     "output_type": "display_data"
    }
   ],
   "source": [
    "plt.imshow(np.reshape(n[0],(28,28)),cmap='gray')"
   ]
  },
  {
   "cell_type": "markdown",
   "metadata": {},
   "source": [
    "visualize generated img"
   ]
  },
  {
   "cell_type": "code",
   "execution_count": 20,
   "metadata": {},
   "outputs": [
    {
     "data": {
      "text/plain": [
       "<matplotlib.image.AxesImage at 0x7f4c8c7f30f0>"
      ]
     },
     "execution_count": 20,
     "metadata": {},
     "output_type": "execute_result"
    },
    {
     "data": {
      "image/png": "[encoded data removed]",
      "text/plain": [
       "<matplotlib.figure.Figure at 0x7f4c8c81a208>"
      ]
     },
     "metadata": {},
     "output_type": "display_data"
    }
   ],
   "source": [
    "plt.imshow(np.reshape(gen_imgs[0],(28,28)),cmap='gray')"
   ]
  },
  {
   "cell_type": "code",
   "execution_count": null,
   "metadata": {},
   "outputs": [],
   "source": []
  }
 ],
 "metadata": {
  "kernelspec": {
   "display_name": "Python 2",
   "language": "python",
   "name": "python2"
  },
  "language_info": {
   "codemirror_mode": {
    "name": "ipython",
    "version": 3
   },
   "file_extension": ".py",
   "mimetype": "text/x-python",
   "name": "python",
   "nbconvert_exporter": "python",
   "pygments_lexer": "ipython3",
   "version": "3.5.2"
  }
 },
 "nbformat": 4,
 "nbformat_minor": 2
}
